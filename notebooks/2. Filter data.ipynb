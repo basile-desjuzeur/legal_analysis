{
 "cells": [
  {
   "cell_type": "markdown",
   "metadata": {},
   "source": [
    "# Exploration et filtre des données\n",
    "\n",
    "L'objectif de ce notebook est de trouver les décisions qui correspondent à ce que l'on cherche. \n",
    "\n",
    "A savoir : des décisions qui concernent un recours par une entreprise ou un particulier contre une majoration de ses impôts.\n",
    "\n",
    "Plusieurs types de majorations peuvent exister :\n",
    "\n",
    "- 40% : manquement délibéré (mauvaise foi du contribuable)\n",
    "- 80% : abus de droit (tu fais un montage pour payer moins d’impôt)\n",
    "- 100% : opposition à contrôle fiscal\n"
   ]
  },
  {
   "cell_type": "markdown",
   "metadata": {},
   "source": [
    "## 0. Installation et import des librairies"
   ]
  },
  {
   "cell_type": "code",
   "execution_count": 7,
   "metadata": {},
   "outputs": [],
   "source": [
    "!pip install -q tqdm"
   ]
  },
  {
   "cell_type": "code",
   "execution_count": 1,
   "metadata": {},
   "outputs": [],
   "source": [
    "import pandas as pd\n",
    "import matplotlib.pyplot as plt\n",
    "import re\n",
    "from tqdm import tqdm\n",
    "import os"
   ]
  },
  {
   "cell_type": "markdown",
   "metadata": {},
   "source": [
    "## 1. Lecture d'un fichier test pour comprendre son agencement\n",
    "\n",
    "Par exemple, le fichier n° 19LY01259, qui concerne une décharge du contribuable."
   ]
  },
  {
   "cell_type": "code",
   "execution_count": 5,
   "metadata": {},
   "outputs": [
    {
     "name": "stderr",
     "output_type": "stream",
     "text": [
      "C:\\Users\\basil\\AppData\\Local\\Temp\\ipykernel_5160\\3663729244.py:2: DtypeWarning: Columns (6) have mixed types. Specify dtype option on import or set low_memory=False.\n",
      "  df = pd.read_csv(\"../data/intermediate_data.csv\")\n"
     ]
    }
   ],
   "source": [
    "# lecture du csv qui contient les données analysées dans le notebook 1\n",
    "df = pd.read_csv(\"../data/intermediate_data.csv\")"
   ]
  },
  {
   "cell_type": "code",
   "execution_count": 3,
   "metadata": {},
   "outputs": [
    {
     "data": {
      "text/plain": [
       "0"
      ]
     },
     "execution_count": 3,
     "metadata": {},
     "output_type": "execute_result"
    }
   ],
   "source": [
    "# on récupère le chemin du fichier désiré\n",
    "path = df[df.id == \"21MA02603\"][\"path\"].values[0]\n",
    "\n",
    "# on ouvre le fichier avec Visual Studio Code\n",
    "os.system(f\"code {path}\")"
   ]
  },
  {
   "cell_type": "markdown",
   "metadata": {},
   "source": [
    "## 2. Filtre des décisions\n",
    "\n",
    "\n",
    "On cherche des mots clés pour discriminer les différentes majorations en étant les plus prudents possibles (on ne veut garder que les bones décisions, au risque d'en rater quelques unes)."
   ]
  },
  {
   "cell_type": "code",
   "execution_count": null,
   "metadata": {},
   "outputs": [],
   "source": [
    "mots_cles_40 = [\"manquement délibéré\"]\n",
    "\n",
    "mots_cles_80 = [\"abus de droit\"]\n",
    "\n",
    "mots_cles_100 = [\"opposition à contrôle fiscal\"]\n",
    "\n",
    "\n",
    "# fonction pour trouver les mots clés dans un texte\n",
    "def find_mots_cles(text, mots_cles):\n",
    "    # pour tous les mots clés cherchés\n",
    "    for mot in mots_cles:\n",
    "        # si on trouve un mot clé\n",
    "        if re.search(mot, text):\n",
    "            # on retourne True\n",
    "            return True\n",
    "    # si on ne trouve aucun mot clé, on retourne False\n",
    "    return False\n",
    "\n",
    "\n",
    "# fonction pour trouver à quelle majoration correspond un texte\n",
    "def discriminate_majoration(text):\n",
    "    # si c'est une majoration de 40%\n",
    "    if find_mots_cles(text, mots_cles_40):\n",
    "        return \"40%\"\n",
    "    # si c'est une majoration de 80%\n",
    "    elif find_mots_cles(text, mots_cles_80):\n",
    "        return \"80%\"\n",
    "    # si c'est une majoration de 100%\n",
    "    elif find_mots_cles(text, mots_cles_100):\n",
    "        return \"100%\"\n",
    "    # sinon, on ne sait pas\n",
    "    else:\n",
    "        return \"other\"\n",
    "\n",
    "\n",
    "# fonction pour lire un fichier et discriminer la majoration\n",
    "def read_and_discriminate_majoration(path):\n",
    "    # on ouvre le fichier\n",
    "    with open(path, \"r\") as file:\n",
    "        # on lit le texte\n",
    "        try :\n",
    "            text = file.read()\n",
    "        except:\n",
    "            return \"error\"\n",
    "    # on discrimine la majoration avec la fonction précédente\n",
    "    return    discriminate_majoration(text)\n",
    "   \n",
    "# barre de progression pour voir où on en est\n",
    "tqdm.pandas()\n",
    "\n",
    "# application de la fonction à tous les fichiers    \n",
    "df[\"majoration\"] = df.path.progress_apply(read_and_discriminate_majoration)\n",
    "\n",
    "# sauvegarde du dataframe pour garder les données\n",
    "df.to_csv(\"../data/intermediate_data.csv\", index=False)"
   ]
  },
  {
   "cell_type": "markdown",
   "metadata": {},
   "source": [
    "## 3. Quelques vérifications aléatoires\n",
    "\n",
    "Pour vérifier que nos règles fonctionnent bien, on va ouvrir des fichiers et vérifier qu'ils sont bien categorisés."
   ]
  },
  {
   "cell_type": "code",
   "execution_count": 9,
   "metadata": {},
   "outputs": [
    {
     "name": "stdout",
     "output_type": "stream",
     "text": [
      "40%\n"
     ]
    }
   ],
   "source": [
    "# on prend un fichier catégorisé comme ayant une majoration\n",
    "index = df[df.majoration != \"other\"].sample(1).index[0]\n",
    "\n",
    "# on récupère le chemin du fichier\n",
    "path = df.loc[index, \"path\"]\n",
    "\n",
    "# on récupère la majoration qui a été attribuée\n",
    "majoration = df.loc[index, \"majoration\"]\n",
    "\n",
    "# on l'ouvre avec Visual Studio Code\n",
    "os.system(f\"code {path}\")\n",
    "\n",
    "# on affiche la majoration\n",
    "print(majoration)"
   ]
  },
  {
   "cell_type": "markdown",
   "metadata": {},
   "source": [
    "Ces tests aléatoires semblent confirmer le bon fonctionnement de notre méthode."
   ]
  },
  {
   "cell_type": "markdown",
   "metadata": {},
   "source": [
    "## 4. Graphique : quels sont les résultats ?\n",
    "\n",
    "Avec ces premières règles on a un corpus de **2300 décisions**. \n",
    "\n",
    "De manière assez prévisible, plus la sanction est importante, moins il y a de cas.\n",
    "\n",
    "NB : \n",
    "- on a laissé les chiffres visibles pour pouvoir faire des graphiques propres\n",
    "- on ne prend que les décisions pas les ordonnances de renvoi"
   ]
  },
  {
   "cell_type": "code",
   "execution_count": 11,
   "metadata": {},
   "outputs": [
    {
     "data": {
      "image/png": "[encoded data removed]",
      "text/plain": [
       "<Figure size 2000x500 with 2 Axes>"
      ]
     },
     "metadata": {},
     "output_type": "display_data"
    }
   ],
   "source": [
    "# remove ordonnances de renvoie\n",
    "df = df[df.ordonnance_de_renvoi == False]\n",
    "\n",
    "plot, axs = plt.subplots(1, 2, figsize=(20, 5))\n",
    "\n",
    "# plot 1 : other vs Majoration\n",
    "nb_1 = df[df.majoration == \"other\"].shape[0]\n",
    "nb_2 = df[df.majoration != \"other\"].shape[0]\n",
    "\n",
    "axs[0].bar([\"other\", \"Majoration\"], [nb_1, nb_2], color=[\"red\", \"green\"])\n",
    "axs[0].set_title(\n",
    "    \"Part des décisions qui concernent une décision liée à une majoration\"\n",
    ")\n",
    "\n",
    "# plot 2 : 40% vs 80% vs 100%\n",
    "nb_40 = df[df.majoration == \"40%\"].shape[0]\n",
    "nb_80 = df[df.majoration == \"80%\"].shape[0]\n",
    "nb_100 = df[df.majoration == \"100%\"].shape[0]\n",
    "\n",
    "axs[1].bar([\"40%\", \"80%\", \"100%\"], [nb_40, nb_80, nb_100])\n",
    "axs[1].set_title(\n",
    "    \"Répartitions des décisions liée à une majoration\"\n",
    ")\n",
    "\n",
    "# set the numbers on top of the bars\n",
    "for i in range(2):\n",
    "    for bar in axs[i].patches:\n",
    "        yval = bar.get_height()\n",
    "        axs[i].text(\n",
    "            bar.get_x() + bar.get_width() / 2,\n",
    "            yval,\n",
    "            round(yval),\n",
    "            ha=\"center\",\n",
    "            va=\"bottom\",\n",
    "        )\n",
    "\n",
    "plt.show()\n",
    "\n",
    "# save image\n",
    "plot.savefig(\"../output/répartitions_des_majorations.png\")"
   ]
  }
 ],
 "metadata": {
  "kernelspec": {
   "display_name": "venv_legal",
   "language": "python",
   "name": "python3"
  },
  "language_info": {
   "codemirror_mode": {
    "name": "ipython",
    "version": 3
   },
   "file_extension": ".py",
   "mimetype": "text/x-python",
   "name": "python",
   "nbconvert_exporter": "python",
   "pygments_lexer": "ipython3",
   "version": "3.11.8"
  }
 },
 "nbformat": 4,
 "nbformat_minor": 2
}
