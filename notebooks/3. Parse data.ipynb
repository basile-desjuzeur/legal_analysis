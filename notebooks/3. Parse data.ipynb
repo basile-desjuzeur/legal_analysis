{
 "cells": [
  {
   "cell_type": "markdown",
   "metadata": {},
   "source": [
    "# Extraction du texte \n",
    "\n",
    "Maintenant que l'on a repéré les décisions qui nous intéressent, on peut isoler certaines données dans ces décisions pour pouvoir faire des statistiques dessus.\n",
    "\n",
    "L'objectif de ce notebook est d'en extraitre le plus possible, notamment :\n",
    "\n",
    "- décision finale (oui/non)\n",
    "- lieu où la décision a été prise\n",
    "- quel type d'acteur (particulier / entreprise)\n",
    "- pour chaque type d'acteur : M. ou Mme / quelle forme juridique\n",
    "- quel avocat fait la défense (cabinet / M. ou Mme)\n",
    "- quel est le montant en jeux \n",
    "- qui compose le tribunal \n",
    "- quelles sont les lois citées\n",
    "\n",
    "Un notebook suivant fera une analyse plus fine de la défense en analysant le texte."
   ]
  },
  {
   "cell_type": "code",
   "execution_count": 3,
   "metadata": {},
   "outputs": [
    {
     "name": "stdout",
     "output_type": "stream",
     "text": [
      "\u001b[33mWARNING: You are using pip version 21.2.4; however, version 24.0 is available.\n",
      "You should consider upgrading via the '/Users/basiledesjuzeur/Documents/legal_analysis/venv_legal/bin/python3 -m pip install --upgrade pip' command.\u001b[0m\n"
     ]
    }
   ],
   "source": [
    "! pip install -q numpy pandas"
   ]
  },
  {
   "cell_type": "code",
   "execution_count": 5,
   "metadata": {},
   "outputs": [],
   "source": [
    "import pandas as pd\n",
    "import numpy as np\n",
    "import matplotlib.pyplot as plt\n",
    "import xml\n",
    "import os\n"
   ]
  },
  {
   "cell_type": "markdown",
   "metadata": {},
   "source": [
    "On ne prend que les décisions qui nous intéressent"
   ]
  },
  {
   "cell_type": "code",
   "execution_count": 4,
   "metadata": {},
   "outputs": [
    {
     "name": "stderr",
     "output_type": "stream",
     "text": [
      "/var/folders/lt/7s5dvrb13ll759vbj0xtstr40000gp/T/ipykernel_1375/2316316723.py:1: DtypeWarning: Columns (6) have mixed types. Specify dtype option on import or set low_memory=False.\n",
      "  df = pd.read_csv('../data/intermediate_data.csv')\n"
     ]
    }
   ],
   "source": [
    "df = pd.read_csv('../data/intermediate_data.csv')\n",
    "\n",
    "# décisions sur les majorations\n",
    "df = df[(df.ordonnance_de_renvoi == False) & (df.majoration != 'other')]\n"
   ]
  },
  {
   "cell_type": "markdown",
   "metadata": {},
   "source": [
    "Pour pouvoir faire des tests on crée un dossier  de tests"
   ]
  },
  {
   "cell_type": "code",
   "execution_count": null,
   "metadata": {},
   "outputs": [],
   "source": [
    "# 10 décisions aléatoires\n",
    "sample = df.sample(10)\n",
    "os.makedirs(\"../data/test\", exist_ok=True):\n",
    "\n",
    "\n"
   ]
  },
  {
   "cell_type": "markdown",
   "metadata": {},
   "source": [
    "## 1. Décision finale"
   ]
  },
  {
   "cell_type": "code",
   "execution_count": 3,
   "metadata": {},
   "outputs": [
    {
     "name": "stderr",
     "output_type": "stream",
     "text": [
      "/var/folders/lt/7s5dvrb13ll759vbj0xtstr40000gp/T/ipykernel_1375/4051532004.py:1: DtypeWarning: Columns (6) have mixed types. Specify dtype option on import or set low_memory=False.\n",
      "  df = pd.read_csv('../data/intermediate_data.csv')\n"
     ]
    },
    {
     "data": {
      "text/html": [
       "<div>\n",
       "<style scoped>\n",
       "    .dataframe tbody tr th:only-of-type {\n",
       "        vertical-align: middle;\n",
       "    }\n",
       "\n",
       "    .dataframe tbody tr th {\n",
       "        vertical-align: top;\n",
       "    }\n",
       "\n",
       "    .dataframe thead th {\n",
       "        text-align: right;\n",
       "    }\n",
       "</style>\n",
       "<table border=\"1\" class=\"dataframe\">\n",
       "  <thead>\n",
       "    <tr style=\"text-align: right;\">\n",
       "      <th></th>\n",
       "      <th>path</th>\n",
       "      <th>new_path</th>\n",
       "      <th>ordonnance_de_renvoi</th>\n",
       "      <th>instance</th>\n",
       "      <th>year</th>\n",
       "      <th>month</th>\n",
       "      <th>id</th>\n",
       "      <th>majoration</th>\n",
       "    </tr>\n",
       "  </thead>\n",
       "  <tbody>\n",
       "    <tr>\n",
       "      <th>0</th>\n",
       "      <td>../data/raw/DTA/2022/11/TA54/DTA_2003387_20221...</td>\n",
       "      <td>../data/process/DTA/2022/11/DTA_2003387_202211...</td>\n",
       "      <td>False</td>\n",
       "      <td>TA</td>\n",
       "      <td>2022</td>\n",
       "      <td>11</td>\n",
       "      <td>2003387</td>\n",
       "      <td>other</td>\n",
       "    </tr>\n",
       "    <tr>\n",
       "      <th>1</th>\n",
       "      <td>../data/raw/DTA/2022/11/TA54/ORTA_2203220_2022...</td>\n",
       "      <td>../data/process/DTA/2022/11/ORTA_2203220_20221...</td>\n",
       "      <td>True</td>\n",
       "      <td>TA</td>\n",
       "      <td>2022</td>\n",
       "      <td>11</td>\n",
       "      <td>2203220</td>\n",
       "      <td>other</td>\n",
       "    </tr>\n",
       "    <tr>\n",
       "      <th>2</th>\n",
       "      <td>../data/raw/DTA/2022/11/TA54/DTA_2202970_20221...</td>\n",
       "      <td>../data/process/DTA/2022/11/DTA_2202970_202211...</td>\n",
       "      <td>False</td>\n",
       "      <td>TA</td>\n",
       "      <td>2022</td>\n",
       "      <td>11</td>\n",
       "      <td>2202970</td>\n",
       "      <td>other</td>\n",
       "    </tr>\n",
       "    <tr>\n",
       "      <th>3</th>\n",
       "      <td>../data/raw/DTA/2022/11/TA54/DTA_2201958_20221...</td>\n",
       "      <td>../data/process/DTA/2022/11/DTA_2201958_202211...</td>\n",
       "      <td>False</td>\n",
       "      <td>TA</td>\n",
       "      <td>2022</td>\n",
       "      <td>11</td>\n",
       "      <td>2201958</td>\n",
       "      <td>other</td>\n",
       "    </tr>\n",
       "    <tr>\n",
       "      <th>4</th>\n",
       "      <td>../data/raw/DTA/2022/11/TA54/DTA_2203128_20221...</td>\n",
       "      <td>../data/process/DTA/2022/11/DTA_2203128_202211...</td>\n",
       "      <td>False</td>\n",
       "      <td>TA</td>\n",
       "      <td>2022</td>\n",
       "      <td>11</td>\n",
       "      <td>2203128</td>\n",
       "      <td>other</td>\n",
       "    </tr>\n",
       "  </tbody>\n",
       "</table>\n",
       "</div>"
      ],
      "text/plain": [
       "                                                path  \\\n",
       "0  ../data/raw/DTA/2022/11/TA54/DTA_2003387_20221...   \n",
       "1  ../data/raw/DTA/2022/11/TA54/ORTA_2203220_2022...   \n",
       "2  ../data/raw/DTA/2022/11/TA54/DTA_2202970_20221...   \n",
       "3  ../data/raw/DTA/2022/11/TA54/DTA_2201958_20221...   \n",
       "4  ../data/raw/DTA/2022/11/TA54/DTA_2203128_20221...   \n",
       "\n",
       "                                            new_path  ordonnance_de_renvoi  \\\n",
       "0  ../data/process/DTA/2022/11/DTA_2003387_202211...                 False   \n",
       "1  ../data/process/DTA/2022/11/ORTA_2203220_20221...                  True   \n",
       "2  ../data/process/DTA/2022/11/DTA_2202970_202211...                 False   \n",
       "3  ../data/process/DTA/2022/11/DTA_2201958_202211...                 False   \n",
       "4  ../data/process/DTA/2022/11/DTA_2203128_202211...                 False   \n",
       "\n",
       "  instance  year  month       id majoration  \n",
       "0       TA  2022     11  2003387      other  \n",
       "1       TA  2022     11  2203220      other  \n",
       "2       TA  2022     11  2202970      other  \n",
       "3       TA  2022     11  2201958      other  \n",
       "4       TA  2022     11  2203128      other  "
      ]
     },
     "execution_count": 3,
     "metadata": {},
     "output_type": "execute_result"
    }
   ],
   "source": []
  },
  {
   "cell_type": "code",
   "execution_count": null,
   "metadata": {},
   "outputs": [],
   "source": []
  }
 ],
 "metadata": {
  "kernelspec": {
   "display_name": "venv_legal",
   "language": "python",
   "name": "python3"
  },
  "language_info": {
   "codemirror_mode": {
    "name": "ipython",
    "version": 3
   },
   "file_extension": ".py",
   "mimetype": "text/x-python",
   "name": "python",
   "nbconvert_exporter": "python",
   "pygments_lexer": "ipython3",
   "version": "3.9.6"
  }
 },
 "nbformat": 4,
 "nbformat_minor": 2
}
