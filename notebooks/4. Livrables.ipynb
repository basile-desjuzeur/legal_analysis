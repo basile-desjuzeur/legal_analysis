{
 "cells": [
  {
   "cell_type": "markdown",
   "metadata": {},
   "source": [
    "# Préparation des livrables\n",
    "\n",
    "Dans ce dernier notebook on va synthétiser tous nos résultats en prépant de livrables.\n",
    "\n",
    "On souhaite faire :\n",
    "\n",
    "- un dossier avec toutes les décisions que l'on a etudié\n",
    "\n",
    "- un tableau excel pour pouvoir y accéder plus facilement.\n",
    "\n",
    "- un graphique qui représente une sorte \"d'arbres de décisions\"\n",
    "\n"
   ]
  },
  {
   "cell_type": "code",
   "execution_count": 1,
   "metadata": {},
   "outputs": [],
   "source": [
    "import pandas as pd\n",
    "import matplotlib.pyplot as plt\n",
    "import os\n",
    "import shutil  # pour copier des fichiers"
   ]
  },
  {
   "cell_type": "markdown",
   "metadata": {},
   "source": [
    "## 1. Tableau google sheet\n",
    "\n",
    "On veut faire un tableau qui présente synthétiquement nos résultats et permet d'y accéder facilement."
   ]
  },
  {
   "cell_type": "code",
   "execution_count": 2,
   "metadata": {},
   "outputs": [
    {
     "name": "stdout",
     "output_type": "stream",
     "text": [
      "Index(['path', 'new_path', 'ordonnance_de_renvoi', 'instance', 'year', 'month',\n",
      "       'id', 'majoration', 'type_recours', 'test_sentence_1', 'sentence_1',\n",
      "       'test_sentence_2', 'sentence_2', 'personne_1', 'match_1', 'personne_2',\n",
      "       'match_2', 'personne_synthetic', 'décision', 'code_juridiction',\n",
      "       'nom_juridiction'],\n",
      "      dtype='object')\n"
     ]
    }
   ],
   "source": [
    "# lecture des données\n",
    "df = pd.read_csv(\"../data/intermediate_data.csv\")\n",
    "\n",
    "# on affiche toutes les colonnes que l'on a créé \n",
    "# pour pouvoir choisir celles qui nous intéressent\n",
    "print(df.columns)"
   ]
  },
  {
   "cell_type": "markdown",
   "metadata": {},
   "source": [
    "On ne garde que les colonnes que l'on souhaite"
   ]
  },
  {
   "cell_type": "code",
   "execution_count": 3,
   "metadata": {},
   "outputs": [
    {
     "data": {
      "text/html": [
       "<div>\n",
       "<style scoped>\n",
       "    .dataframe tbody tr th:only-of-type {\n",
       "        vertical-align: middle;\n",
       "    }\n",
       "\n",
       "    .dataframe tbody tr th {\n",
       "        vertical-align: top;\n",
       "    }\n",
       "\n",
       "    .dataframe thead th {\n",
       "        text-align: right;\n",
       "    }\n",
       "</style>\n",
       "<table border=\"1\" class=\"dataframe\">\n",
       "  <thead>\n",
       "    <tr style=\"text-align: right;\">\n",
       "      <th></th>\n",
       "      <th>Chemin</th>\n",
       "      <th>Instance déliberatrice</th>\n",
       "      <th>Année</th>\n",
       "      <th>Mois</th>\n",
       "      <th>Identifiant</th>\n",
       "      <th>Majoration</th>\n",
       "      <th>Type recours</th>\n",
       "      <th>Personnalité</th>\n",
       "      <th>Décision</th>\n",
       "      <th>Code juridiction</th>\n",
       "      <th>Nom juridiction</th>\n",
       "    </tr>\n",
       "  </thead>\n",
       "  <tbody>\n",
       "    <tr>\n",
       "      <th>0</th>\n",
       "      <td>../data/raw/DTA/2022/11/TA38/DTA_2002498_20221...</td>\n",
       "      <td>TA</td>\n",
       "      <td>2022</td>\n",
       "      <td>11</td>\n",
       "      <td>2002498</td>\n",
       "      <td>40%</td>\n",
       "      <td>Plein contentieux</td>\n",
       "      <td>P.P.</td>\n",
       "      <td>Satisfaction partielle</td>\n",
       "      <td>38</td>\n",
       "      <td>Tribunal Administratif de Grenoble</td>\n",
       "    </tr>\n",
       "    <tr>\n",
       "      <th>1</th>\n",
       "      <td>../data/raw/DTA/2022/11/TA38/DTA_2006107_20221...</td>\n",
       "      <td>TA</td>\n",
       "      <td>2022</td>\n",
       "      <td>11</td>\n",
       "      <td>2006107</td>\n",
       "      <td>40%</td>\n",
       "      <td>Plein contentieux</td>\n",
       "      <td>P.M.</td>\n",
       "      <td>Rejet</td>\n",
       "      <td>38</td>\n",
       "      <td>Tribunal Administratif de Grenoble</td>\n",
       "    </tr>\n",
       "    <tr>\n",
       "      <th>2</th>\n",
       "      <td>../data/raw/DTA/2022/11/TA38/DTA_1905044_20221...</td>\n",
       "      <td>TA</td>\n",
       "      <td>2022</td>\n",
       "      <td>11</td>\n",
       "      <td>1905044</td>\n",
       "      <td>40%</td>\n",
       "      <td>Plein contentieux</td>\n",
       "      <td>P.P.</td>\n",
       "      <td>Rejet</td>\n",
       "      <td>38</td>\n",
       "      <td>Tribunal Administratif de Grenoble</td>\n",
       "    </tr>\n",
       "    <tr>\n",
       "      <th>3</th>\n",
       "      <td>../data/raw/DTA/2022/11/TA38/DTA_1905713_20221...</td>\n",
       "      <td>TA</td>\n",
       "      <td>2022</td>\n",
       "      <td>11</td>\n",
       "      <td>1905713</td>\n",
       "      <td>40%</td>\n",
       "      <td>Plein contentieux</td>\n",
       "      <td>P.M.</td>\n",
       "      <td>Satisfaction partielle</td>\n",
       "      <td>38</td>\n",
       "      <td>Tribunal Administratif de Grenoble</td>\n",
       "    </tr>\n",
       "    <tr>\n",
       "      <th>4</th>\n",
       "      <td>../data/raw/DTA/2022/11/TA63/DTA_1902047_20221...</td>\n",
       "      <td>TA</td>\n",
       "      <td>2022</td>\n",
       "      <td>11</td>\n",
       "      <td>1902047</td>\n",
       "      <td>40%</td>\n",
       "      <td>Plein contentieux</td>\n",
       "      <td>P.M.</td>\n",
       "      <td>Rejet</td>\n",
       "      <td>63</td>\n",
       "      <td>Tribunal Administratif de Clermont-Ferrand</td>\n",
       "    </tr>\n",
       "  </tbody>\n",
       "</table>\n",
       "</div>"
      ],
      "text/plain": [
       "                                              Chemin Instance déliberatrice  \\\n",
       "0  ../data/raw/DTA/2022/11/TA38/DTA_2002498_20221...                     TA   \n",
       "1  ../data/raw/DTA/2022/11/TA38/DTA_2006107_20221...                     TA   \n",
       "2  ../data/raw/DTA/2022/11/TA38/DTA_1905044_20221...                     TA   \n",
       "3  ../data/raw/DTA/2022/11/TA38/DTA_1905713_20221...                     TA   \n",
       "4  ../data/raw/DTA/2022/11/TA63/DTA_1902047_20221...                     TA   \n",
       "\n",
       "   Année  Mois Identifiant Majoration       Type recours Personnalité  \\\n",
       "0   2022    11     2002498        40%  Plein contentieux         P.P.   \n",
       "1   2022    11     2006107        40%  Plein contentieux         P.M.   \n",
       "2   2022    11     1905044        40%  Plein contentieux         P.P.   \n",
       "3   2022    11     1905713        40%  Plein contentieux         P.M.   \n",
       "4   2022    11     1902047        40%  Plein contentieux         P.M.   \n",
       "\n",
       "                 Décision  Code juridiction  \\\n",
       "0  Satisfaction partielle                38   \n",
       "1                   Rejet                38   \n",
       "2                   Rejet                38   \n",
       "3  Satisfaction partielle                38   \n",
       "4                   Rejet                63   \n",
       "\n",
       "                              Nom juridiction  \n",
       "0          Tribunal Administratif de Grenoble  \n",
       "1          Tribunal Administratif de Grenoble  \n",
       "2          Tribunal Administratif de Grenoble  \n",
       "3          Tribunal Administratif de Grenoble  \n",
       "4  Tribunal Administratif de Clermont-Ferrand  "
      ]
     },
     "execution_count": 3,
     "metadata": {},
     "output_type": "execute_result"
    }
   ],
   "source": [
    "desired_columns = ['path','instance', 'year', 'month',\n",
    "       'id', 'majoration', 'type_recours', 'personne_synthetic', 'décision', 'code_juridiction',\n",
    "       'nom_juridiction']\n",
    "\n",
    "# on filtre les colonnes\n",
    "df = df[desired_columns]\n",
    "\n",
    "# on donne de nouveaux noms aux colonnes pour être plus lisisbles\n",
    "new_names = [\"Chemin\",'Instance déliberatrice',\"Année\",'Mois',\"Identifiant\",'Majoration','Type recours',\"Personnalité\",\"Décision\",\"Code juridiction\",\"Nom juridiction\"]\n",
    "\n",
    "# on affecte ces nouveaux noms de colonnes\n",
    "df.columns = new_names\n",
    "\n",
    "# on affiche les 5 premières lignes du tableau\n",
    "df.head()"
   ]
  },
  {
   "cell_type": "markdown",
   "metadata": {},
   "source": [
    "On va maintenant simplifier au maximum les intitulés pour que ce soit le plus lisible possible."
   ]
  },
  {
   "cell_type": "code",
   "execution_count": 4,
   "metadata": {},
   "outputs": [],
   "source": [
    "# on change les valeurs de la colonen \"Instance déliberatrice\"\n",
    "df[\"Instance déliberatrice\"] = df[\"Instance déliberatrice\"].replace(\"TA\",\"Tribunal administratif\")\n",
    "df[\"Instance déliberatrice\"] = df[\"Instance déliberatrice\"].replace(\"CAA\",\"Cour administrative d'appel\")"
   ]
  },
  {
   "cell_type": "code",
   "execution_count": 5,
   "metadata": {},
   "outputs": [],
   "source": [
    "# on créée une colonne date pour remplacer les colonnes Année et Mois\n",
    "df[\"Date\"] = df[\"Année\"].astype(str) + \"-\" + df[\"Mois\"].astype(str)\n",
    "\n",
    "# on supprime les colonnes Année et Mois\n",
    "df = df.drop(columns=[\"Année\",\"Mois\"])"
   ]
  },
  {
   "cell_type": "code",
   "execution_count": 6,
   "metadata": {},
   "outputs": [],
   "source": [
    "# on remplace les valeurs de la colonne Personnalité\n",
    "df[\"Personnalité\"] = df[\"Personnalité\"].replace(\"P.P.\",\"Personne physique\").replace(\"P.M.\",\"Personne morale\")\n"
   ]
  },
  {
   "cell_type": "code",
   "execution_count": 7,
   "metadata": {},
   "outputs": [],
   "source": [
    "# les noms des types recours ne sont pas harmonisés\n",
    "# on va les harmoniser en mettant une majuscule à chaque début de mot\n",
    "df[\"Type recours\"] = df[\"Type recours\"].str.title()"
   ]
  },
  {
   "cell_type": "markdown",
   "metadata": {},
   "source": [
    "Il y a aussi beaucoup de type de décisions différentes, pour simplifier on va les regrouper en grandes catégories."
   ]
  },
  {
   "cell_type": "code",
   "execution_count": 8,
   "metadata": {},
   "outputs": [
    {
     "data": {
      "image/png": "[encoded data removed]",
      "text/plain": [
       "<Figure size 640x480 with 1 Axes>"
      ]
     },
     "metadata": {},
     "output_type": "display_data"
    }
   ],
   "source": [
    "# catégorisation des décisions telles quelles\n",
    "old_cat = ['Satisfaction partielle',\n",
    " 'Rejet',\n",
    " 'Satisfaction totale',\n",
    " 'Non-lieu',\n",
    " 'Désistement',\n",
    " 'Renvoi',\n",
    " 'ADD - Expertise / Médiation',\n",
    " 'Avis article L.113-1',\n",
    " 'Radiation des registres']\n",
    "\n",
    "# nouvelle catégorisation des décisions\n",
    "# l'element 1 de la liste correspond à l'élément 1 de la liste old_cat\n",
    "# et ainsi de suite\n",
    "new_cat = ['Satisfaction Partielle',\n",
    "           'Rejet',\n",
    "              'Satisfaction Totale',\n",
    "              'Rejet',\n",
    "              'Rejet',\n",
    "              'Renvoi',\n",
    "              'Renvoi',\n",
    "              'Renvoi',\n",
    "              'Rejet']\n",
    "\n",
    "# on remplace les valeurs de la colonne Décision\n",
    "df[\"Décision\"] = df[\"Décision\"].replace(old_cat,new_cat)\n",
    "\n",
    "# on fait un graphique pour voir la répartition des décisions\n",
    "# et on le sauvegarde\n",
    "df[\"Décision\"].value_counts().plot(kind=\"bar\").set_title(\"Répartition des décisions\").figure.savefig(\"../output/répartitions_des_décisions_nouvelles_catégories.png\")\n"
   ]
  },
  {
   "cell_type": "markdown",
   "metadata": {},
   "source": [
    "Enfin pour pouvoir faire un excel propre, on a envire de pouvoir accéder à chaque décision depuis un navigateur (Chrome,Brave ...).\n",
    "\n",
    "Pour cela, on va tirer parti de la fonction hyperlink de sheets et de l'hébergement de nos données sur Github.\n",
    "\n",
    "On créera l'excel à la main à partir du dataframe."
   ]
  },
  {
   "cell_type": "code",
   "execution_count": 14,
   "metadata": {},
   "outputs": [],
   "source": [
    "# base de l'url du repository Github\n",
    "url = \"https://raw.githubusercontent.com/78jeanlebret/legal_data_analysis/main/data/final/\"\n",
    "\n",
    "\n",
    "# pour voir un document en particulier,\n",
    "# il faut ajouter le chemin qui mène à ce dossier\n",
    "# ex : https://raw.githubusercontent.com/78jeanlebret/legal_data_analysis/main/data/final/DCA/2023/01/doc.xml\n",
    "\n",
    "# fonction qui renvoie l'url complète vers un fichier\n",
    "def construct_url(path):\n",
    "\n",
    "    # on rajoute le chemin vers le fichier\n",
    "    # ex : DCA/2022/01/doc.xml\n",
    "    id = path.split(\"raw/\")[1]\n",
    "    return url + id\n",
    "\n",
    "# on applique la fonction à chaque ligne du tableau\n",
    "df[\"Lien fichier\"] = df.Chemin.apply(construct_url)"
   ]
  },
  {
   "cell_type": "markdown",
   "metadata": {},
   "source": [
    "On peut maintenant sauvegarder notre tableau."
   ]
  },
  {
   "cell_type": "code",
   "execution_count": 15,
   "metadata": {},
   "outputs": [],
   "source": [
    "df.to_csv(\"../data/final_data.csv\",index=False)"
   ]
  },
  {
   "cell_type": "markdown",
   "metadata": {},
   "source": [
    "## 2. Dossier avec toutes les données\n",
    "\n",
    "Jusqu'à présent, on avait en local toutes les décisions des TA et des CAA en local sur notre ordinateur, ou partagées via un Drive.\n",
    "\n",
    "Pour pouvoir les télécharger sur Github en réduisant l'énergie nécessaire au stockage et au transfert, et pour pouvoir les retravailler si besoin, on va créer un nouveau dossier avec uniquement les décisions intéressantes."
   ]
  },
  {
   "cell_type": "code",
   "execution_count": 52,
   "metadata": {},
   "outputs": [],
   "source": [
    "# création d'un nouveau dossier\n",
    "os.makedirs(\"../data/final\",exist_ok=True)\n",
    "\n",
    "# on crée un nouveau chemin d'accès pour chaque fichier\n",
    "# en remplacant data/raw par data/final\n",
    "df[\"Chemin final\"]= df[\"Chemin\"].str.replace(\"data/raw\",\"data/final\")\n",
    "\n",
    "# on copie chaque fichier dans le nouveau dossier\n",
    "# pour chaque ligne du tableau\n",
    "for index,row in df.iterrows():\n",
    "\n",
    "    # on crée le dossier si il n'existe pas\n",
    "    os.makedirs(\"/\".join(row[\"Chemin final\"].split(\"/\")[:-1]),exist_ok=True)\n",
    "\n",
    "    # on copie le fichier\n",
    "    shutil.copy(row[\"Chemin\"],row[\"Chemin final\"])"
   ]
  },
  {
   "cell_type": "markdown",
   "metadata": {},
   "source": [
    "## 3. Graphique\n",
    "\n",
    "On cherche à faire le graphique qui présente le plus synthétiquement nos résultats.\n",
    "\n",
    "Pour des questions de temps, on éditera le graphique sur power point et les statistiques sur le Excel que l'on a fait."
   ]
  }
 ],
 "metadata": {
  "kernelspec": {
   "display_name": "venv_legal",
   "language": "python",
   "name": "python3"
  },
  "language_info": {
   "codemirror_mode": {
    "name": "ipython",
    "version": 3
   },
   "file_extension": ".py",
   "mimetype": "text/x-python",
   "name": "python",
   "nbconvert_exporter": "python",
   "pygments_lexer": "ipython3",
   "version": "3.9.0"
  }
 },
 "nbformat": 4,
 "nbformat_minor": 2
}
