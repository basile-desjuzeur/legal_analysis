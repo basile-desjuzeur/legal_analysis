{
 "cells": [
  {
   "cell_type": "markdown",
   "metadata": {},
   "source": [
    "# Scraping de data.administratif\n",
    "\n",
    "L'objectif de ce notebook est d'importer toutes les décisions des :\n",
    "\n",
    "- TA : tribunaux administratifs\n",
    "- CAA : Cours administratives d'appel\n",
    "\n",
    "Les données sont disponibles [ici](https://opendata.justice-administrative.fr/) en *open data*.\n",
    "\n",
    "Ici, on s'attache simplement à télécharger et filtrer grossièrement les fichiers, le gros du travail de cleaning sera fait dans un autre notebook.\n",
    "\n",
    "Les données téléchargées brutes sont disponibles [ici](../data/raw/) et un fichier csv qui recense tous les fichiers correspondants [là](../data/raw_data.csv)."
   ]
  },
  {
   "cell_type": "markdown",
   "metadata": {},
   "source": [
    "## 0. Installation et import des librairies"
   ]
  },
  {
   "cell_type": "code",
   "execution_count": 12,
   "metadata": {},
   "outputs": [
    {
     "name": "stdout",
     "output_type": "stream",
     "text": [
      "\u001b[33mWARNING: You are using pip version 21.2.4; however, version 24.0 is available.\n",
      "You should consider upgrading via the '/Users/basiledesjuzeur/Documents/legal_analysis/venv_legal/bin/python3 -m pip install --upgrade pip' command.\u001b[0m\n"
     ]
    }
   ],
   "source": [
    "# installation des librairies avec pip (matplotlib et pandas)\n",
    "! pip install -q matplotlib pandas#"
   ]
  },
  {
   "cell_type": "code",
   "execution_count": 1,
   "metadata": {},
   "outputs": [],
   "source": [
    "# import des librairies\n",
    "import pandas as pd\n",
    "import requests\n",
    "import os\n",
    "import zipfile\n",
    "import matplotlib.pyplot as plt"
   ]
  },
  {
   "cell_type": "markdown",
   "metadata": {},
   "source": [
    "## 1. Téléchargement des fichiers"
   ]
  },
  {
   "cell_type": "markdown",
   "metadata": {},
   "source": [
    "D'abord, on récupère la liste des url à télécharger.\n",
    "\n",
    "NB : Certains fichiers sont corrompus et ne peuvent pas être téléchargés avec notre méthode. Nous les enlevons donc de la liste, et ils seront ultérieurement rajoutés \"à la main\"."
   ]
  },
  {
   "cell_type": "code",
   "execution_count": 21,
   "metadata": {},
   "outputs": [
    {
     "data": {
      "text/plain": [
       "('https://opendata.justice-administrative.fr/DCA/2022/03/CAA_202203.zip',\n",
       " 'DCA',\n",
       " '2022',\n",
       " '03')"
      ]
     },
     "execution_count": 21,
     "metadata": {},
     "output_type": "execute_result"
    }
   ],
   "source": [
    "# liste des fichiers de la CAA (disponible sur le site de l'opendata de la justice administrative)\n",
    "file_list_CAA = [\n",
    "    \"CAA_202203.zip\",\n",
    "    \"CAA_202204.zip\",\n",
    "    \"CAA_202205.zip\",\n",
    "    \"CAA_202206.zip\",\n",
    "    \"CAA_202207.zip\",\n",
    "    \"CAA_202208.zip\",\n",
    "    \"CAA_202209.zip\",\n",
    "    \"CAA_202210.zip\",\n",
    "    \"CAA_202211.zip\",\n",
    "    \"CAA_202212.zip\",\n",
    "    # \"CAA_202301.zip\", (fichier corrompu)\n",
    "    \"CAA_202302.zip\",\n",
    "    \"CAA_202303.zip\",\n",
    "    \"CAA_202304.zip\",\n",
    "    \"CAA_202305.zip\",\n",
    "    \"CAA_202306.zip\",\n",
    "    \"CAA_202307.zip\",\n",
    "    # \"CAA_202308.zip\", (fichier corrompu)\n",
    "    \"CAA_202309.zip\",\n",
    "    \"CAA_202310.zip\",\n",
    "    \"CAA_202311.zip\",\n",
    "    \"CAA_202312.zip\",\n",
    "    \"CAA_202401.zip\",\n",
    "    \"CAA_202402.zip\",\n",
    "]\n",
    "\n",
    "# liste des fichiers de la TA (disponible sur le site de l'opendata de la justice administrative)\n",
    "file_list_TA = [\n",
    "    \"TA_202206.zip\",\n",
    "    \"TA_202207.zip\",\n",
    "    \"TA_202208.zip\",\n",
    "    \"TA_202209.zip\",\n",
    "    \"TA_202210.zip\",\n",
    "    \"TA_202211.zip\",\n",
    "    \"TA_202212.zip\",\n",
    "    \"TA_202301.zip\",\n",
    "    \"TA_202302.zip\",\n",
    "    \"TA_202303.zip\",\n",
    "    \"TA_202304.zip\",\n",
    "    \"TA_202305.zip\",\n",
    "    \"TA_202306.zip\",\n",
    "    \"TA_202307.zip\",\n",
    "    \"TA_202308.zip\",\n",
    "    \"TA_202309.zip\",\n",
    "    \"TA_202310.zip\",\n",
    "    \"TA_202311.zip\",\n",
    "    \"TA_202312.zip\",\n",
    "    \"TA_202401.zip\",\n",
    "    \"TA_202402.zip\",\n",
    "]\n",
    "\n",
    "# base de l'url sur lequel on va construire les urls pour télécharger les fichiers\n",
    "url_base = \"https://opendata.justice-administrative.fr/\"\n",
    "\n",
    "# fonction pour construire l'url de téléchargement d'un fichier\n",
    "# renvoie l'url et des informations sur le fichier (instance, année, mois)\n",
    "def construct_url(url_base, file, instance):\n",
    "    year = file.split(\"_\")[1].split(\".\")[0][0:4]\n",
    "    month = file.split(\"_\")[1].split(\".\")[0][4:6]\n",
    "\n",
    "    url = url_base + instance + \"/\" + year + \"/\" + month + \"/\" + file\n",
    "    return url, instance, year, month\n",
    "\n",
    "# test \n",
    "construct_url(url_base, file_list_CAA[0], \"DCA\")"
   ]
  },
  {
   "cell_type": "markdown",
   "metadata": {},
   "source": [
    "Ensuite, on essaie de télécharger un seul fichier pour vérifier que notre *fonction fonctionne*."
   ]
  },
  {
   "cell_type": "code",
   "execution_count": 22,
   "metadata": {},
   "outputs": [],
   "source": [
    "\n",
    "# fonction pour télécharger un fichier\n",
    "def download_file(url, instance, year, month):\n",
    "\n",
    "    # récupération du dossier contenu à cette url\n",
    "    # ex : https://opendata.justice-administrative.fr/CAA/2022/03/CAA_202203.zip\n",
    "    r = requests.get(url)\n",
    "\n",
    "    # création du chemin pour sauvegarder le fichier\n",
    "    # ex : ../data/raw/DCA/2022/03\n",
    "    path = os.path.join(\"../data/raw\", instance, year, month)\n",
    "\n",
    "    # création du dossier pour contenir le fichier, s'il n'existe pas\n",
    "    if not os.path.exists(path):\n",
    "        os.makedirs(path)\n",
    "\n",
    "    # sauvegarde du fichier\n",
    "    # ex : ../data/raw/DCA/2022/03/CAA_202203.zip\n",
    "    with open(os.path.join(path, url.split(\"/\")[-1]), \"wb\") as f:\n",
    "        f.write(r.content)\n",
    "\n",
    "    # décompression du fichier\n",
    "    # ex : ../data/raw/DCA/2022/03/CAA_202203.zip -> ../data/raw/DCA/2022/03/CAA_202203\n",
    "    with zipfile.ZipFile(os.path.join(path, url.split(\"/\")[-1]), \"r\") as zip_ref:\n",
    "        zip_ref.extractall(path)\n",
    "\n",
    "    # suppression du fichier zip\n",
    "    os.remove(os.path.join(path, url.split(\"/\")[-1]))\n",
    "\n",
    "# test\n",
    "url, instance, year, month = construct_url(url_base, file_list_CAA[0], \"DCA\")\n",
    "download_file(url, instance, year, month)"
   ]
  },
  {
   "cell_type": "markdown",
   "metadata": {},
   "source": [
    "Au vu du bon fonctionnement de notre méthode, on peut maintenant télécharger toutes les données."
   ]
  },
  {
   "cell_type": "code",
   "execution_count": 23,
   "metadata": {},
   "outputs": [],
   "source": [
    "# télécharger tous les fichiers des tribunaux administratifs\n",
    "for file in file_list_TA:\n",
    "    url, instance, year, month = construct_url(url_base, file, \"DTA\")\n",
    "    download_file(url, instance, year, month)\n",
    "\n",
    "# télécharger tous les fichiers des cours administratives d'appel\n",
    "for file in file_list_CAA:\n",
    "    url, instance, year, month = construct_url(url_base, file, \"DCA\")\n",
    "    download_file(url, instance, year, month)"
   ]
  },
  {
   "cell_type": "markdown",
   "metadata": {},
   "source": [
    "Pour finir, on rajoute les fichiers corrompus à notre base de données.(*DCA 202301 et DCA 202308*)."
   ]
  },
  {
   "cell_type": "code",
   "execution_count": 26,
   "metadata": {},
   "outputs": [],
   "source": [
    "# on crée les dossiers corrompus dans notre arborescence\n",
    "os.makedirs(\"../data/raw/DCA/2023/01\")\n",
    "os.makedirs(\"../data/raw/DCA/2023/08\")\n",
    "\n",
    "# on déplace les fichiers corrompus dans les dossiers correspondants\n",
    "! mv ../../../Downloads/DCA_2023_01/*.xml ../data/raw/DCA/2023/01\n",
    "! mv ../../../Downloads/DCA_2023_08/*.xml ../data/raw/DCA/2023/08"
   ]
  },
  {
   "cell_type": "markdown",
   "metadata": {},
   "source": [
    "## 2. Première sélection des fichiers d'intérêts.\n",
    "\n",
    "Nous venons de télécharger toutes les données de l'open data concernant les TA et les CAA.\n",
    "\n",
    "Cependant, seulement une petite partie de ces informations nous intéresse, on va donc procéder à un premier filtre pour éliminer celles dont nous n'avons pas besoin.\n",
    "\n",
    "Pour pouvoir effectuer ce filtre, nous allons utiliser une *dataframe* pandas (un tableau), sauvegardée dans [ce fichier](../data/raw_data.csv), qui nous servira de registre. "
   ]
  },
  {
   "cell_type": "code",
   "execution_count": 31,
   "metadata": {},
   "outputs": [],
   "source": [
    "# liste qui va contenir les chemins de tous les fichiers xml\n",
    "# ex : ../data/raw/DCA/2022/03/CAA_202203/CAA_202203_0001.xml\n",
    "paths = []\n",
    "\n",
    "# parcourir l'arborescence pour récupérer les chemins des fichiers xml\n",
    "for root, dirs, files in os.walk(\"../data/raw\"):\n",
    "    # pour tous les fichiers\n",
    "    for file in files:\n",
    "        # si le fichier est un fichier xml\n",
    "        if file.endswith(\".xml\"):\n",
    "\n",
    "            # on fait en sorte que le chemin soit indépendant du système d'exploitation\n",
    "            # i.e. on remplace les \\ par des /\n",
    "            path = os.path.join(root, file).replace(\"\\\\\", \"/\")\n",
    "            # on ajoute le chemin du fichier à la liste\n",
    "\n",
    "            paths.append(path)\n",
    "\n",
    "# on crée un dataframe avec les chemins des fichiers\n",
    "df = pd.DataFrame(paths, columns=[\"path\"])\n",
    "\n",
    "# que l'on sauvegarde dans un fichier csv\n",
    "df.to_csv(\"../data/raw_data.csv\", index=False)"
   ]
  },
  {
   "cell_type": "code",
   "execution_count": 32,
   "metadata": {},
   "outputs": [
    {
     "name": "stdout",
     "output_type": "stream",
     "text": [
      "<class 'pandas.core.frame.DataFrame'>\n",
      "RangeIndex: 295037 entries, 0 to 295036\n",
      "Data columns (total 1 columns):\n",
      " #   Column  Non-Null Count   Dtype \n",
      "---  ------  --------------   ----- \n",
      " 0   path    295037 non-null  object\n",
      "dtypes: object(1)\n",
      "memory usage: 2.3+ MB\n"
     ]
    }
   ],
   "source": [
    "# informations sur le dataframe\n",
    "df.info()"
   ]
  },
  {
   "cell_type": "markdown",
   "metadata": {},
   "source": [
    "On a donc 300 000 décisions de justices à catégoriser."
   ]
  },
  {
   "cell_type": "markdown",
   "metadata": {},
   "source": [
    "### 2.1 Note sur l'organisation des fichiers\n",
    "\n",
    "Les dossiers ne sont pas construits de la même manière :\n",
    "\n",
    "- DCA :\n",
    "    - année\n",
    "        - mois \n",
    "            - décision\n",
    "\n",
    "- DTA :\n",
    "    - année \n",
    "        - mois \n",
    "            - département du tribunal\n",
    "                - décision\n",
    "\n",
    "Pour faciliter la lecture, on va harmoniser les structures en calquant celle de la DTA sur celle de la DCA.\n"
   ]
  },
  {
   "cell_type": "code",
   "execution_count": 35,
   "metadata": {},
   "outputs": [],
   "source": [
    "# fonction qui renvoie le nouveau chemin d'un fichier DTA\n",
    "# ex : ../data/raw/DTA/2022/03/TA_202203/69/TA_202203_0001.xml \n",
    "# -> ../data/process/DTA/2022/03/TA_202203/TA_202203_0001.xml\n",
    "def new_path_DTA(path):\n",
    "    # si le chemin contient \"DTA\"\n",
    "    if \"DTA\" in path:\n",
    "        # extraire l'année et le mois du chemin\n",
    "        year = path.split(\"/\")[4]\n",
    "        month = path.split(\"/\")[5]\n",
    "\n",
    "        # construire le nouveau chemin\n",
    "        new_path = (\n",
    "            \"../data/process/DTA/\" + year + \"/\" + month + \"/\" + path.split(\"/\")[-1]\n",
    "        )\n",
    "\n",
    "        return new_path\n",
    "    \n",
    "    # sinon, on renvoie le chemin tel quel\n",
    "    else:\n",
    "        return path\n",
    "\n",
    "\n",
    "# on applique la fonction à la colonne \"path\" du dataframe\n",
    "df[\"new_path\"] = df[\"path\"].apply(new_path_DTA)"
   ]
  },
  {
   "cell_type": "markdown",
   "metadata": {},
   "source": [
    "### 2.2 Contextualisation des données que l'on cherche\n",
    "\n",
    "Les deux instances émettent plusieurs types de documents :\n",
    "\n",
    "- Tribunaux administratifs :\n",
    "    - DTA : Décision des tribunaux administratifs\n",
    "    - ORTA : Ordonnance de renvoi des tribunaux administratifs\n",
    "\n",
    "- Cours administratives d'appel :\n",
    "    - DCA : Décision des cours administratives\n",
    "    - ORCA : Ordonnance de renvoi des cours administratives\n",
    "\n",
    "Les ordonnances de renvoi s'insèrent dans le mécanisme suivant :\n",
    "\n",
    "1. Le contribuable édite ses comptes\n",
    "2. L'administration fiscale envoie une proposition de rectification\n",
    "3. L'entreprise envoie une contre-proposition \n",
    "4. L'administation fiscale statue sur cette contre-proposition et décide d'une pénalité\n",
    "\n",
    "Le contribuable peut alors décider de demander un recours.\n",
    "\n",
    "5. Le tribunal administratif (TA) évalue ce recours \n",
    "    - le TA prend une décision -> **DTA**\n",
    "    ou \n",
    "    - le TA renvoie la décision à la CAA -> **ORTA**\n",
    "\n",
    "6. En cas d'ORTA\n",
    "    - la CAA prend une décision -> **DCA**\n",
    "    ou\n",
    "    - la CAA renvoie la décision au Conseil d'Etat -> **ORTA**\n",
    "\n",
    "Le Conseil d'Etat évalue ensuite si la décision de la CAA a été bien prise.\n",
    "\n",
    "**Ceci étant dit**, les ordonnances de renvoi ne nous intéressent pas particulièrement ici."
   ]
  },
  {
   "cell_type": "code",
   "execution_count": 36,
   "metadata": {},
   "outputs": [],
   "source": [
    "# fonction qui regarde si un fichier est une ordonnance de renvoi\n",
    "def ordonnance_de_renvoi(path):\n",
    "\n",
    "    # nom du fichier\n",
    "    # ex : ../data/raw/DCA/2022/03/CAA_202203/CAA_202203_0001.xml -> CAA_202203_0001.xml\n",
    "    file_name = path.split(\"/\")[-1]\n",
    "\n",
    "    # si le nom du fichier contient \"ORTA\" ou \"ORCA\"\n",
    "    if \"ORTA\" in file_name or \"ORCA\" in file_name:\n",
    "\n",
    "        # on renvoie True\n",
    "        return True\n",
    "\n",
    "    # sinon\n",
    "    else:\n",
    "        # on renvoie False\n",
    "        return False\n",
    "\n",
    "\n",
    "# on applique la fonction à la colonne path du dataframe\n",
    "df[\"ordonnance_de_renvoi\"] = df[\"path\"].apply(ordonnance_de_renvoi)"
   ]
  },
  {
   "cell_type": "code",
   "execution_count": 37,
   "metadata": {},
   "outputs": [],
   "source": [
    "# fonction qui catégorise les fichiers en fonction de leur instance\n",
    "def instance(path):\n",
    "\n",
    "    # extraire le nom du dossier parent du fichier\n",
    "    # ex : ../data/raw/DCA/2022/03/CAA_202203/CAA_202203_0001.xml -> DCA\n",
    "    folder = path.split(\"/\")[3]\n",
    "\n",
    "    # si le dossier parent est \"DCA\"\n",
    "    if folder == \"DCA\":\n",
    "        return \"CAA\"\n",
    "    \n",
    "    # si le dossier parent est \"DTA\"\n",
    "    if folder == \"DTA\":\n",
    "        return \"TA\"\n",
    "    else:\n",
    "        return \"None\"\n",
    "\n",
    "\n",
    "# on applique la fonction à la colonne path du dataframe\n",
    "df[\"instance\"] = df[\"new_path\"].apply(instance)"
   ]
  },
  {
   "cell_type": "markdown",
   "metadata": {},
   "source": [
    "### 2.3 Un premier graphique : Est ce qu'il y a beaucoup d'ordonnances de renvoi ?\n",
    "\n",
    "Sans surprise et par construction :\n",
    "- Il y a plus de décisions dans les TA que les CAA\n",
    "\n",
    "Il est intéressant de noter qu'une part importante des décisions sont renvoyées.\n",
    "\n",
    "NB : On a mis les chiffres pour pouvoir refaire proprement les graphiques sur pptx ou excel"
   ]
  },
  {
   "cell_type": "code",
   "execution_count": 38,
   "metadata": {},
   "outputs": [
    {
     "data": {
      "image/png": "[encoded data removed]",
      "text/plain": [
       "<Figure size 4500x1000 with 2 Axes>"
      ]
     },
     "metadata": {},
     "output_type": "display_data"
    }
   ],
   "source": [
    "fig, axs = plt.subplots(1, 2, figsize=(45, 10))\n",
    "\n",
    "# number of ordonnance de renvoi for TA\n",
    "or_ta = df[df[\"instance\"] == \"TA\"][\"ordonnance_de_renvoi\"].value_counts()\n",
    "x_label = [\"Décisions\", \"Ordonnance de renvoi\"]\n",
    "axs[0].bar(x_label, or_ta)\n",
    "axs[0].set_title(\n",
    "    \"Part d'ordonnance de renvoi et de Décisions pour les Tribunaux Administratifs\"\n",
    ")\n",
    "# set the numbers in the top of the bars\n",
    "for i, v in enumerate(or_ta):\n",
    "    axs[0].text(i - 0.1, v + 0.1, str(v), fontsize=12, fontweight=\"bold\")\n",
    "\n",
    "\n",
    "# number of ordonnance de renvoi for CAA\n",
    "or_caa = df[df[\"instance\"] == \"CAA\"][\"ordonnance_de_renvoi\"].value_counts()\n",
    "axs[1].bar(x_label, or_caa)\n",
    "axs[1].set_title(\n",
    "    \"Part d'ordonnance de renvoi et de Décisions pour les Cours Administratives d'Appel\"\n",
    ")\n",
    "# set the numbers on the top of the bars\n",
    "for i, v in enumerate(or_caa):\n",
    "    axs[1].text(i - 0.1, v + 0.1, str(v), fontsize=12, fontweight=\"bold\")\n",
    "\n",
    "\n",
    "# save the figure\n",
    "plt.savefig(\"../output/part_ordonnance_de_renvoi.png\")"
   ]
  },
  {
   "cell_type": "markdown",
   "metadata": {},
   "source": [
    "## 3. Extraction des données importantes\n",
    "\n",
    "Pour chaque fichier, on extraie à partir du chemin du fichier:\n",
    "\n",
    "- l'année \n",
    "- le mois\n",
    "- l'identifiant de la décision\n",
    "\n"
   ]
  },
  {
   "cell_type": "code",
   "execution_count": 39,
   "metadata": {},
   "outputs": [
    {
     "name": "stdout",
     "output_type": "stream",
     "text": [
      "2022\n",
      "11\n",
      "2003387\n"
     ]
    }
   ],
   "source": [
    "# fonction qui renvoie l'année où a été rendue une décision\n",
    "def get_year(path):\n",
    "    return path.split(\"/\")[4]\n",
    "\n",
    "# fonction qui renvoie le mois où a été rendue une décision\n",
    "def get_month(path):\n",
    "    return path.split(\"/\")[5]\n",
    "\n",
    "# fonction qui renvoie l'id d'une décision\n",
    "def get_id(path):\n",
    "    file_name = path.split(\"/\")[-1]\n",
    "    id = file_name.split(\"_\")[1]\n",
    "    return id\n",
    "\n",
    "# chemin test pour les fonctions\n",
    "# devrait renvoyer \n",
    "# année : 2022\n",
    "# mois : 11\n",
    "# id : 2003387\n",
    "test = \"./data/raw/DTA/2022/11/DTA_2003387_20221117.xml\"\n",
    "\n",
    "\n",
    "print(get_year(test))\n",
    "print(get_month(test))\n",
    "print(get_id(test))"
   ]
  },
  {
   "cell_type": "code",
   "execution_count": 40,
   "metadata": {},
   "outputs": [],
   "source": [
    "# application de ces fonctions au dataframe\n",
    "df[\"year\"] = df[\"path\"].apply(get_year)\n",
    "df[\"month\"] = df[\"path\"].apply(get_month)\n",
    "df[\"id\"] = df[\"path\"].apply(get_id)"
   ]
  },
  {
   "cell_type": "markdown",
   "metadata": {},
   "source": [
    "## 4. Edition du csv de sauvegarde\n",
    "\n",
    "Pour finir ce notebook et garder nos analyses, on enregistre l'état actuel de notre dataframe dans un csv [\"intermediate_data\"](../data/intermediate_data.csv)."
   ]
  },
  {
   "cell_type": "code",
   "execution_count": 41,
   "metadata": {},
   "outputs": [],
   "source": [
    "df.to_csv(\"../data/intermediate_data.csv\", index=False)"
   ]
  }
 ],
 "metadata": {
  "kernelspec": {
   "display_name": "venv_legal",
   "language": "python",
   "name": "python3"
  },
  "language_info": {
   "codemirror_mode": {
    "name": "ipython",
    "version": 3
   },
   "file_extension": ".py",
   "mimetype": "text/x-python",
   "name": "python",
   "nbconvert_exporter": "python",
   "pygments_lexer": "ipython3",
   "version": "3.11.8"
  }
 },
 "nbformat": 4,
 "nbformat_minor": 2
}
